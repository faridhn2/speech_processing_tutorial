{
 "cells": [
  {
   "cell_type": "code",
   "execution_count": 1,
   "id": "4afb8efe",
   "metadata": {},
   "outputs": [
    {
     "name": "stdout",
     "output_type": "stream",
     "text": [
      "Collecting PyAudio\n",
      "  Downloading PyAudio-0.2.13-cp38-cp38-win_amd64.whl (164 kB)\n",
      "     ------------------------------------ 164.1/164.1 kB 166.8 kB/s eta 0:00:00\n",
      "Installing collected packages: PyAudio\n",
      "Successfully installed PyAudio-0.2.13\n"
     ]
    },
    {
     "name": "stderr",
     "output_type": "stream",
     "text": [
      "\n",
      "[notice] A new release of pip available: 22.3.1 -> 23.1.2\n",
      "[notice] To update, run: python.exe -m pip install --upgrade pip\n"
     ]
    }
   ],
   "source": [
    "!pip install PyAudio"
   ]
  },
  {
   "cell_type": "code",
   "execution_count": 2,
   "id": "ebfd147b",
   "metadata": {},
   "outputs": [],
   "source": [
    "import pyaudio"
   ]
  },
  {
   "cell_type": "code",
   "execution_count": 3,
   "id": "297d8271",
   "metadata": {},
   "outputs": [],
   "source": [
    "import wave"
   ]
  },
  {
   "cell_type": "code",
   "execution_count": 22,
   "id": "6c342eae",
   "metadata": {},
   "outputs": [],
   "source": [
    "FRAMES_PER_BUFFER = 3200"
   ]
  },
  {
   "cell_type": "code",
   "execution_count": 23,
   "id": "09fb1b2b",
   "metadata": {},
   "outputs": [],
   "source": [
    "FORMAT = pyaudio.paInt16"
   ]
  },
  {
   "cell_type": "code",
   "execution_count": 24,
   "id": "2b29d033",
   "metadata": {},
   "outputs": [],
   "source": [
    "CHANNELS = 1\n",
    "RATE= 16000"
   ]
  },
  {
   "cell_type": "code",
   "execution_count": 35,
   "id": "774b52c5",
   "metadata": {},
   "outputs": [],
   "source": [
    "p = pyaudio.PyAudio()"
   ]
  },
  {
   "cell_type": "code",
   "execution_count": 36,
   "id": "53b2484b",
   "metadata": {},
   "outputs": [],
   "source": [
    "stream = p.open(format=FORMAT,\n",
    "               channels = CHANNELS,\n",
    "               rate=RATE,\n",
    "               input=True,\n",
    "               frames_per_buffer=FRAMES_PER_BUFFER)"
   ]
  },
  {
   "cell_type": "code",
   "execution_count": 37,
   "id": "95d67286",
   "metadata": {},
   "outputs": [
    {
     "name": "stdout",
     "output_type": "stream",
     "text": [
      "start recording...\n",
      "end\n"
     ]
    }
   ],
   "source": [
    "print('start recording...')\n",
    "seconds = 5\n",
    "frames = []\n",
    "for i in range(0,int(RATE/FRAMES_PER_BUFFER*seconds)):\n",
    "    data = stream.read(FRAMES_PER_BUFFER)\n",
    "    frames.append(data)\n",
    "stream.stop_stream()\n",
    "stream.close()\n",
    "p.terminate()\n",
    "print('end')"
   ]
  },
  {
   "cell_type": "code",
   "execution_count": 38,
   "id": "eeab7781",
   "metadata": {},
   "outputs": [],
   "source": [
    "obj = wave.open('output.wav','wb')"
   ]
  },
  {
   "cell_type": "code",
   "execution_count": 39,
   "id": "15561c0e",
   "metadata": {},
   "outputs": [],
   "source": [
    "obj.setframerate(RATE)\n",
    "obj.setsampwidth(p.get_sample_size(FORMAT))\n",
    "obj.setnchannels(CHANNELS)\n",
    "obj.writeframes(b''.join(frames))\n",
    "obj.close()"
   ]
  },
  {
   "cell_type": "markdown",
   "id": "aa2b15ce",
   "metadata": {},
   "source": [
    "# MP3"
   ]
  },
  {
   "cell_type": "markdown",
   "id": "b8b80426",
   "metadata": {},
   "source": [
    "install ffmpeg"
   ]
  },
  {
   "cell_type": "code",
   "execution_count": 40,
   "id": "64379698",
   "metadata": {},
   "outputs": [
    {
     "name": "stdout",
     "output_type": "stream",
     "text": [
      "Requirement already satisfied: pydub in c:\\users\\farid\\anaconda3\\lib\\site-packages (0.25.1)\n"
     ]
    },
    {
     "name": "stderr",
     "output_type": "stream",
     "text": [
      "\n",
      "[notice] A new release of pip available: 22.3.1 -> 23.1.2\n",
      "[notice] To update, run: python.exe -m pip install --upgrade pip\n"
     ]
    }
   ],
   "source": [
    "!pip install pydub"
   ]
  },
  {
   "cell_type": "code",
   "execution_count": 41,
   "id": "703c43f3",
   "metadata": {},
   "outputs": [],
   "source": [
    "from pydub import AudioSegment"
   ]
  },
  {
   "cell_type": "code",
   "execution_count": 44,
   "id": "a27b3d7e",
   "metadata": {},
   "outputs": [],
   "source": [
    "audio = AudioSegment.from_wav('output.wav')"
   ]
  },
  {
   "cell_type": "code",
   "execution_count": 45,
   "id": "27a5c024",
   "metadata": {},
   "outputs": [],
   "source": [
    "audio = audio + 6 "
   ]
  },
  {
   "cell_type": "code",
   "execution_count": 46,
   "id": "734323e7",
   "metadata": {},
   "outputs": [],
   "source": [
    "audio = audio.fade_in(2000)"
   ]
  },
  {
   "cell_type": "code",
   "execution_count": 47,
   "id": "d91aec1d",
   "metadata": {},
   "outputs": [
    {
     "data": {
      "text/plain": [
       "<_io.BufferedRandom name='output.mp3'>"
      ]
     },
     "execution_count": 47,
     "metadata": {},
     "output_type": "execute_result"
    }
   ],
   "source": [
    "audio.export('output.mp3',format='mp3')"
   ]
  },
  {
   "cell_type": "code",
   "execution_count": 48,
   "id": "29e1d519",
   "metadata": {},
   "outputs": [],
   "source": [
    "audio2 = AudioSegment.from_mp3('output.mp3')"
   ]
  },
  {
   "cell_type": "code",
   "execution_count": 49,
   "id": "a24ea759",
   "metadata": {},
   "outputs": [
    {
     "name": "stdout",
     "output_type": "stream",
     "text": [
      "<pydub.audio_segment.AudioSegment object at 0x000000B1A3CB7EB0>\n"
     ]
    }
   ],
   "source": [
    "print(audio2)"
   ]
  },
  {
   "cell_type": "code",
   "execution_count": null,
   "id": "394bc449",
   "metadata": {},
   "outputs": [],
   "source": []
  }
 ],
 "metadata": {
  "kernelspec": {
   "display_name": "Python 3",
   "language": "python",
   "name": "python3"
  },
  "language_info": {
   "codemirror_mode": {
    "name": "ipython",
    "version": 3
   },
   "file_extension": ".py",
   "mimetype": "text/x-python",
   "name": "python",
   "nbconvert_exporter": "python",
   "pygments_lexer": "ipython3",
   "version": "3.8.5"
  }
 },
 "nbformat": 4,
 "nbformat_minor": 5
}
