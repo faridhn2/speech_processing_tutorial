{
 "cells": [
  {
   "cell_type": "code",
   "execution_count": null,
   "metadata": {
    "colab": {
     "base_uri": "https://localhost:8080/"
    },
    "id": "2Tr4l2kNsybD",
    "outputId": "8447ba17-6e5c-4bba-b16f-d00ef1a3650d"
   },
   "outputs": [
    {
     "name": "stdout",
     "output_type": "stream",
     "text": [
      "Looking in indexes: https://pypi.org/simple, https://us-python.pkg.dev/colab-wheels/public/simple/\n",
      "Collecting SpeechRecognition\n",
      "  Downloading SpeechRecognition-3.10.0-py2.py3-none-any.whl (32.8 MB)\n",
      "\u001b[2K     \u001b[90m━━━━━━━━━━━━━━━━━━━━━━━━━━━━━━━━━━━━━━━━\u001b[0m \u001b[32m32.8/32.8 MB\u001b[0m \u001b[31m34.8 MB/s\u001b[0m eta \u001b[36m0:00:00\u001b[0m\n",
      "\u001b[?25hRequirement already satisfied: requests>=2.26.0 in /usr/local/lib/python3.10/dist-packages (from SpeechRecognition) (2.27.1)\n",
      "Requirement already satisfied: urllib3<1.27,>=1.21.1 in /usr/local/lib/python3.10/dist-packages (from requests>=2.26.0->SpeechRecognition) (1.26.15)\n",
      "Requirement already satisfied: certifi>=2017.4.17 in /usr/local/lib/python3.10/dist-packages (from requests>=2.26.0->SpeechRecognition) (2022.12.7)\n",
      "Requirement already satisfied: charset-normalizer~=2.0.0 in /usr/local/lib/python3.10/dist-packages (from requests>=2.26.0->SpeechRecognition) (2.0.12)\n",
      "Requirement already satisfied: idna<4,>=2.5 in /usr/local/lib/python3.10/dist-packages (from requests>=2.26.0->SpeechRecognition) (3.4)\n",
      "Installing collected packages: SpeechRecognition\n",
      "Successfully installed SpeechRecognition-3.10.0\n"
     ]
    }
   ],
   "source": [
    "!pip install SpeechRecognition"
   ]
  },
  {
   "cell_type": "code",
   "execution_count": null,
   "metadata": {
    "colab": {
     "base_uri": "https://localhost:8080/"
    },
    "id": "f3_OjFJFtCvT",
    "outputId": "bb94efa0-c51f-4037-fcfe-10e814f36ec9"
   },
   "outputs": [
    {
     "name": "stdout",
     "output_type": "stream",
     "text": [
      "Looking in indexes: https://pypi.org/simple, https://us-python.pkg.dev/colab-wheels/public/simple/\n",
      "Requirement already satisfied: moviepy in /usr/local/lib/python3.10/dist-packages (1.0.3)\n",
      "Requirement already satisfied: proglog<=1.0.0 in /usr/local/lib/python3.10/dist-packages (from moviepy) (0.1.10)\n",
      "Requirement already satisfied: numpy>=1.17.3 in /usr/local/lib/python3.10/dist-packages (from moviepy) (1.22.4)\n",
      "Requirement already satisfied: imageio-ffmpeg>=0.2.0 in /usr/local/lib/python3.10/dist-packages (from moviepy) (0.4.8)\n",
      "Requirement already satisfied: decorator<5.0,>=4.0.2 in /usr/local/lib/python3.10/dist-packages (from moviepy) (4.4.2)\n",
      "Requirement already satisfied: tqdm<5.0,>=4.11.2 in /usr/local/lib/python3.10/dist-packages (from moviepy) (4.65.0)\n",
      "Requirement already satisfied: requests<3.0,>=2.8.1 in /usr/local/lib/python3.10/dist-packages (from moviepy) (2.27.1)\n",
      "Requirement already satisfied: imageio<3.0,>=2.5 in /usr/local/lib/python3.10/dist-packages (from moviepy) (2.25.1)\n",
      "Requirement already satisfied: pillow>=8.3.2 in /usr/local/lib/python3.10/dist-packages (from imageio<3.0,>=2.5->moviepy) (8.4.0)\n",
      "Requirement already satisfied: charset-normalizer~=2.0.0 in /usr/local/lib/python3.10/dist-packages (from requests<3.0,>=2.8.1->moviepy) (2.0.12)\n",
      "Requirement already satisfied: certifi>=2017.4.17 in /usr/local/lib/python3.10/dist-packages (from requests<3.0,>=2.8.1->moviepy) (2022.12.7)\n",
      "Requirement already satisfied: urllib3<1.27,>=1.21.1 in /usr/local/lib/python3.10/dist-packages (from requests<3.0,>=2.8.1->moviepy) (1.26.15)\n",
      "Requirement already satisfied: idna<4,>=2.5 in /usr/local/lib/python3.10/dist-packages (from requests<3.0,>=2.8.1->moviepy) (3.4)\n"
     ]
    }
   ],
   "source": [
    "!pip install moviepy"
   ]
  },
  {
   "cell_type": "code",
   "execution_count": null,
   "metadata": {
    "id": "IVuMvDPntoQy"
   },
   "outputs": [],
   "source": [
    "import speech_recognition as sr\n",
    "import moviepy.editor as mp"
   ]
  },
  {
   "cell_type": "code",
   "execution_count": null,
   "metadata": {
    "id": "grx0h6bJtvfT"
   },
   "outputs": [],
   "source": [
    "video_name = 'builder_ai.mp4'"
   ]
  },
  {
   "cell_type": "code",
   "execution_count": null,
   "metadata": {
    "id": "qijmOzPyt1BU"
   },
   "outputs": [],
   "source": [
    "video = mp.VideoFileClip(video_name)\n",
    "duration = video.duration"
   ]
  },
  {
   "cell_type": "code",
   "execution_count": null,
   "metadata": {
    "colab": {
     "base_uri": "https://localhost:8080/"
    },
    "id": "aR3pEaRdubMs",
    "outputId": "3ed15801-ece3-4979-c8e5-12f4426c4d9c"
   },
   "outputs": [
    {
     "data": {
      "text/plain": [
       "<moviepy.video.io.VideoFileClip.VideoFileClip at 0x7fd22e66e380>"
      ]
     },
     "execution_count": 11,
     "metadata": {},
     "output_type": "execute_result"
    }
   ],
   "source": [
    "video"
   ]
  },
  {
   "cell_type": "code",
   "execution_count": null,
   "metadata": {
    "colab": {
     "base_uri": "https://localhost:8080/"
    },
    "id": "MKTBi8Q3udW7",
    "outputId": "d98a2629-d44b-4746-b021-213f17b63eb3"
   },
   "outputs": [
    {
     "data": {
      "text/plain": [
       "113.8"
      ]
     },
     "execution_count": 12,
     "metadata": {},
     "output_type": "execute_result"
    }
   ],
   "source": [
    "duration"
   ]
  },
  {
   "cell_type": "code",
   "execution_count": null,
   "metadata": {
    "id": "a_4DsPjbuHHg"
   },
   "outputs": [],
   "source": [
    "import os\n",
    "os.mkdir('audios')"
   ]
  },
  {
   "cell_type": "code",
   "execution_count": null,
   "metadata": {
    "colab": {
     "base_uri": "https://localhost:8080/"
    },
    "id": "t5ePoVRCuBJO",
    "outputId": "33f63526-2425-4e6f-f873-a8c871683580"
   },
   "outputs": [
    {
     "name": "stdout",
     "output_type": "stream",
     "text": [
      "MoviePy - Writing audio in audios/builder_ai_0.wav\n"
     ]
    },
    {
     "name": "stderr",
     "output_type": "stream",
     "text": []
    },
    {
     "name": "stdout",
     "output_type": "stream",
     "text": [
      "MoviePy - Done.\n",
      "MoviePy - Writing audio in audios/builder_ai_1.wav\n"
     ]
    },
    {
     "name": "stderr",
     "output_type": "stream",
     "text": [
      "                                                                    "
     ]
    },
    {
     "name": "stdout",
     "output_type": "stream",
     "text": [
      "MoviePy - Done.\n"
     ]
    },
    {
     "name": "stderr",
     "output_type": "stream",
     "text": [
      "\r"
     ]
    },
    {
     "name": "stdout",
     "output_type": "stream",
     "text": [
      "MoviePy - Writing audio in audios/builder_ai_2.wav\n"
     ]
    },
    {
     "name": "stderr",
     "output_type": "stream",
     "text": [
      "                                                        "
     ]
    },
    {
     "name": "stdout",
     "output_type": "stream",
     "text": [
      "MoviePy - Done.\n"
     ]
    },
    {
     "name": "stderr",
     "output_type": "stream",
     "text": [
      "\r"
     ]
    },
    {
     "name": "stdout",
     "output_type": "stream",
     "text": [
      "MoviePy - Writing audio in audios/builder_ai_3.wav\n"
     ]
    },
    {
     "name": "stderr",
     "output_type": "stream",
     "text": [
      "                                                                    "
     ]
    },
    {
     "name": "stdout",
     "output_type": "stream",
     "text": [
      "MoviePy - Done.\n"
     ]
    },
    {
     "name": "stderr",
     "output_type": "stream",
     "text": [
      "\r"
     ]
    },
    {
     "name": "stdout",
     "output_type": "stream",
     "text": [
      "MoviePy - Writing audio in audios/builder_ai_4.wav\n"
     ]
    },
    {
     "name": "stderr",
     "output_type": "stream",
     "text": [
      "                                                        "
     ]
    },
    {
     "name": "stdout",
     "output_type": "stream",
     "text": [
      "MoviePy - Done.\n"
     ]
    },
    {
     "name": "stderr",
     "output_type": "stream",
     "text": [
      "\r"
     ]
    },
    {
     "name": "stdout",
     "output_type": "stream",
     "text": [
      "MoviePy - Writing audio in audios/builder_ai_5.wav\n"
     ]
    },
    {
     "name": "stderr",
     "output_type": "stream",
     "text": [
      "                                                                    "
     ]
    },
    {
     "name": "stdout",
     "output_type": "stream",
     "text": [
      "MoviePy - Done.\n"
     ]
    },
    {
     "name": "stderr",
     "output_type": "stream",
     "text": [
      "\r"
     ]
    },
    {
     "name": "stdout",
     "output_type": "stream",
     "text": [
      "MoviePy - Writing audio in audios/builder_ai_6.wav\n"
     ]
    },
    {
     "name": "stderr",
     "output_type": "stream",
     "text": [
      "                                                        "
     ]
    },
    {
     "name": "stdout",
     "output_type": "stream",
     "text": [
      "MoviePy - Done.\n"
     ]
    },
    {
     "name": "stderr",
     "output_type": "stream",
     "text": [
      "\r"
     ]
    },
    {
     "name": "stdout",
     "output_type": "stream",
     "text": [
      "MoviePy - Writing audio in audios/builder_ai_7.wav\n"
     ]
    },
    {
     "name": "stderr",
     "output_type": "stream",
     "text": [
      "                                                                    "
     ]
    },
    {
     "name": "stdout",
     "output_type": "stream",
     "text": [
      "MoviePy - Done.\n"
     ]
    },
    {
     "name": "stderr",
     "output_type": "stream",
     "text": [
      "\r"
     ]
    },
    {
     "name": "stdout",
     "output_type": "stream",
     "text": [
      "MoviePy - Writing audio in audios/builder_ai_8.wav\n"
     ]
    },
    {
     "name": "stderr",
     "output_type": "stream",
     "text": [
      "                                                                    "
     ]
    },
    {
     "name": "stdout",
     "output_type": "stream",
     "text": [
      "MoviePy - Done.\n"
     ]
    },
    {
     "name": "stderr",
     "output_type": "stream",
     "text": [
      "\r"
     ]
    },
    {
     "name": "stdout",
     "output_type": "stream",
     "text": [
      "MoviePy - Writing audio in audios/builder_ai_9.wav\n"
     ]
    },
    {
     "name": "stderr",
     "output_type": "stream",
     "text": [
      "                                                        "
     ]
    },
    {
     "name": "stdout",
     "output_type": "stream",
     "text": [
      "MoviePy - Done.\n"
     ]
    },
    {
     "name": "stderr",
     "output_type": "stream",
     "text": [
      "\r"
     ]
    },
    {
     "name": "stdout",
     "output_type": "stream",
     "text": [
      "MoviePy - Writing audio in audios/builder_ai_10.wav\n"
     ]
    },
    {
     "name": "stderr",
     "output_type": "stream",
     "text": [
      "                                                        "
     ]
    },
    {
     "name": "stdout",
     "output_type": "stream",
     "text": [
      "MoviePy - Done.\n"
     ]
    },
    {
     "name": "stderr",
     "output_type": "stream",
     "text": [
      "\r"
     ]
    }
   ],
   "source": [
    "for i in range(int(duration/10)):\n",
    "                \n",
    "\n",
    "    clip = video.subclip(max(0,(i*10)-1),(i+1)*10)\n",
    "    clip.audio.write_audiofile('audios/builder_ai_'+str(i)+'.wav')\n",
    "    r = sr.Recognizer()\n",
    "    audio_file = sr.AudioFile('audios/builder_ai_'+str(i)+'.wav')\n",
    "    with audio_file as source:\n",
    "        audio = r.record(source)\n",
    "\n",
    "    text = r.recognize_google(audio,language='fa-IR')\n",
    "    with open('builder_ai.txt',mode='a+',encoding='utf-8') as f:\n",
    "        f.write(' ')\n",
    "        f.write(text)"
   ]
  },
  {
   "cell_type": "code",
   "execution_count": 17,
   "metadata": {
    "id": "-HeVo2hnvp-w"
   },
   "outputs": [],
   "source": [
    "with open('builder_ai.txt',mode='r',encoding='utf-8') as f:\n",
    "  text = f.read()"
   ]
  },
  {
   "cell_type": "code",
   "execution_count": 18,
   "metadata": {
    "colab": {
     "base_uri": "https://localhost:8080/",
     "height": 122
    },
    "id": "48TGoub5vv1J",
    "outputId": "72c5b822-33e5-4c84-f8b3-f0452816ddfa"
   },
   "outputs": [
    {
     "data": {
      "application/vnd.google.colaboratory.intrinsic+json": {
       "type": "string"
      },
      "text/plain": [
       "' اولین دستیار هوش مصنوعی که جایگزین مدیر پروژه و مدیر محسوب شده آشنا بشیم سلام دوستان من فرید هاشمی نژاد هستند در این پست می خوام یکی از برترین سرویس های هوش مصنوعی در بخش ارائه سرویس\\u200cهای نرم افزاری سال ۲۰۲۳ رو خدمتتون معرفی کنم سامانه باعث پیشرفت قابل توجه صنعت طراحی سایت و اپلیکیشن نویسی شده مجموعه مجموعه به یک دستیار هوش مصنوعی به اسم ناتاشا ایجاد کرده که اولین مدیر محصول هوش مصنوعی به حساب می آید این دستیار هوشمند به شما کمک میکنه تا به بهترین حالت ایده های خودتون رو از ۰ تا تحویل پروژه هدایت کن شما میتونید از نمونه های بسیار زیادی که در داخل این پروژه آماده شده الگو بگیریم ترکیب کنید شخصی سازی کنید و بودجه و زمان اجرا را بهینه کنید سامانه پروژه شما را به بهترین حالت حالت و بهینه ترین حالت بین توسعه\\u200cدهندگان مناسب تقسیم می\\u200cکند ترکیب درست و اتصال مناسب بخش های مختلف پروژه رو نظارت برای مثال ویژگیهای لینکدین اینستاگرام یا هر مورد دیگری را با هم ترکیب کنید و زمان بندی تحویل رو ببین تحویل رو ببین البته در ابتدای راه و اگر به ساختار پیچیده تر نیاز پیدا کنید شما رو یکی از متخصصین خودش معرفی میکنه تا بهتر راهنمایی بشیم یک پروژه بسیار جذاب و قوی که از هوش مصنوعی استفاده کرده و یک نسخه بسیار جذاب'"
      ]
     },
     "execution_count": 18,
     "metadata": {},
     "output_type": "execute_result"
    }
   ],
   "source": [
    "text"
   ]
  },
  {
   "cell_type": "code",
   "execution_count": 19,
   "metadata": {
    "colab": {
     "base_uri": "https://localhost:8080/"
    },
    "id": "yz1W1kI7vyAa",
    "outputId": "9b80f8e1-9cbe-467b-b7f9-0bd0713dd316"
   },
   "outputs": [
    {
     "name": "stdout",
     "output_type": "stream",
     "text": [
      "MoviePy - Writing audio in audios/builder_ai_.wav\n"
     ]
    },
    {
     "name": "stderr",
     "output_type": "stream",
     "text": []
    },
    {
     "name": "stdout",
     "output_type": "stream",
     "text": [
      "MoviePy - Done.\n"
     ]
    }
   ],
   "source": [
    "\n",
    "video.audio.write_audiofile('audios/builder_ai_.wav')\n",
    "r = sr.Recognizer()\n",
    "audio_file = sr.AudioFile('audios/builder_ai_.wav')\n",
    "with audio_file as source:\n",
    "    audio = r.record(source)\n",
    "\n",
    "text = r.recognize_google(audio,language='fa-IR')"
   ]
  },
  {
   "cell_type": "code",
   "execution_count": 20,
   "metadata": {
    "colab": {
     "base_uri": "https://localhost:8080/",
     "height": 122
    },
    "id": "C-CnQEjMwOMl",
    "outputId": "c324d538-4d73-4679-c1ea-9febf33028dc"
   },
   "outputs": [
    {
     "data": {
      "application/vnd.google.colaboratory.intrinsic+json": {
       "type": "string"
      },
      "text/plain": [
       "'اولین دستیار هوش مصنوعی که جایگزین مدیر پروژه و مدیریت محسوب شده آشنا بشیم سلام دوستان من فرید هاشمی نژاد هستم و در این پست می خوام یکی از برترین سرویس های هوش مصنوعی در بخش ارائه سرویس های نرم افزاری سال ۲۰۲۳ رو خدمتتون معرفی کنم که باعث پیشرفت قابل توجه صنعت طراحی سایت و اپلیکیشن نویسی شده مجموعه یک دستیار اولین مدیر محصول هوشمند به شما کمک میکنه تا به بهترین حالت ایده های خودتون رو از صفر تا تحویل پروژه هدایت کند شما می توانید از نمونه های بسیار زیادی که در داخل این پروژه آماده شده الگو بگیریم با هم ترکیب کنید شخصی سازی کنید و بودجه و زمان اجرا را بهینه کنیم سامانه پروژه شما را به بهترین حالت و بهینه ترین حالت بین توسعه\\u200cدهندگان مناسب تقسیم می کند ترکیب درست و اتصال مناسب بخش های مختلف پروژه رو نظارت بر ویژگی\\u200cهای لینکدین اینستاگرام یا هر مورد دیگری را با هم ترکیب کنید و زمان بندی تحویل رو ببین البته در ابتدای راه و اگر به ساختار پیچیده تر نیاز پیدا بکنید شما رو یکی از متخصصین خودش معرفی میکنه تا بهتر راهنمایی بشیم یک پروژه بسیار جذاب و قوی که از هوش مصنوعی استفاده کرد و یک نسخه بسیار جذاب استفاده از هوش مصنوعی در صنعت به حساب می آیند'"
      ]
     },
     "execution_count": 20,
     "metadata": {},
     "output_type": "execute_result"
    }
   ],
   "source": [
    "text"
   ]
  },
  {
   "cell_type": "code",
   "execution_count": null,
   "metadata": {
    "id": "c2KDmRT1wPFU"
   },
   "outputs": [],
   "source": []
  }
 ],
 "metadata": {
  "colab": {
   "provenance": []
  },
  "kernelspec": {
   "display_name": "Python 3",
   "language": "python",
   "name": "python3"
  },
  "language_info": {
   "codemirror_mode": {
    "name": "ipython",
    "version": 3
   },
   "file_extension": ".py",
   "mimetype": "text/x-python",
   "name": "python",
   "nbconvert_exporter": "python",
   "pygments_lexer": "ipython3",
   "version": "3.8.5"
  }
 },
 "nbformat": 4,
 "nbformat_minor": 1
}
