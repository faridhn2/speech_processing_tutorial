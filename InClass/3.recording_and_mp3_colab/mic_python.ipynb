{
 "cells": [
  {
   "cell_type": "code",
   "execution_count": null,
   "metadata": {
    "id": "zVD98_Iq8e48"
   },
   "outputs": [],
   "source": [
    "# all imports\n",
    "from io import BytesIO\n",
    "from base64 import b64decode\n",
    "from google.colab import output\n",
    "from IPython.display import Javascript\n",
    "\n",
    "RECORD = \"\"\"\n",
    "const sleep  = time => new Promise(resolve => setTimeout(resolve, time))\n",
    "const b2text = blob => new Promise(resolve => {\n",
    "  const reader = new FileReader()\n",
    "  reader.onloadend = e => resolve(e.srcElement.result)\n",
    "  reader.readAsDataURL(blob)\n",
    "})\n",
    "var record = time => new Promise(async resolve => {\n",
    "  stream = await navigator.mediaDevices.getUserMedia({ audio: true })\n",
    "  recorder = new MediaRecorder(stream)\n",
    "  chunks = []\n",
    "  recorder.ondataavailable = e => chunks.push(e.data)\n",
    "  recorder.start()\n",
    "  await sleep(time)\n",
    "  recorder.onstop = async ()=>{\n",
    "    blob = new Blob(chunks)\n",
    "    text = await b2text(blob)\n",
    "    resolve(text)\n",
    "  }\n",
    "  recorder.stop()\n",
    "})\n",
    "\"\"\"\n",
    "\n",
    "def record(sec=3):\n",
    "  print(\"Speak Now...\")\n",
    "  display(Javascript(RECORD))\n",
    "  sec += 1\n",
    "  s = output.eval_js('record(%d)' % (sec*1000))\n",
    "  print(\"Done Recording !\")\n",
    "  b = b64decode(s.split(',')[1])\n",
    "  return b #byte stream"
   ]
  },
  {
   "cell_type": "code",
   "execution_count": null,
   "metadata": {
    "colab": {
     "base_uri": "https://localhost:8080/",
     "height": 52
    },
    "id": "WfipnK5q8f6r",
    "outputId": "68fabdf6-da0a-480d-c9bf-bd2a63aa44fc"
   },
   "outputs": [
    {
     "name": "stdout",
     "output_type": "stream",
     "text": [
      "Speak Now...\n"
     ]
    },
    {
     "data": {
      "application/javascript": [
       "\n",
       "const sleep  = time => new Promise(resolve => setTimeout(resolve, time))\n",
       "const b2text = blob => new Promise(resolve => {\n",
       "  const reader = new FileReader()\n",
       "  reader.onloadend = e => resolve(e.srcElement.result)\n",
       "  reader.readAsDataURL(blob)\n",
       "})\n",
       "var record = time => new Promise(async resolve => {\n",
       "  stream = await navigator.mediaDevices.getUserMedia({ audio: true })\n",
       "  recorder = new MediaRecorder(stream)\n",
       "  chunks = []\n",
       "  recorder.ondataavailable = e => chunks.push(e.data)\n",
       "  recorder.start()\n",
       "  await sleep(time)\n",
       "  recorder.onstop = async ()=>{\n",
       "    blob = new Blob(chunks)\n",
       "    text = await b2text(blob)\n",
       "    resolve(text)\n",
       "  }\n",
       "  recorder.stop()\n",
       "})\n"
      ],
      "text/plain": [
       "<IPython.core.display.Javascript object>"
      ]
     },
     "metadata": {},
     "output_type": "display_data"
    },
    {
     "name": "stdout",
     "output_type": "stream",
     "text": [
      "Done Recording !\n"
     ]
    }
   ],
   "source": [
    "voice_bytes = record()"
   ]
  },
  {
   "cell_type": "code",
   "execution_count": null,
   "metadata": {
    "id": "bhf4j7I882cb"
   },
   "outputs": [],
   "source": [
    "import numpy as np"
   ]
  },
  {
   "cell_type": "code",
   "execution_count": null,
   "metadata": {
    "id": "4U4Nl_ED9NEm"
   },
   "outputs": [],
   "source": [
    "import matplotlib.pyplot as plt\n",
    "%matplotlib inline"
   ]
  },
  {
   "cell_type": "code",
   "execution_count": null,
   "metadata": {
    "id": "ldKPlAAm-rNU"
   },
   "outputs": [],
   "source": [
    "import wave"
   ]
  },
  {
   "cell_type": "code",
   "execution_count": null,
   "metadata": {
    "colab": {
     "base_uri": "https://localhost:8080/"
    },
    "id": "W5gZ9-rAAHa-",
    "outputId": "ebced6f8-a220-4819-980c-90d9712b1ce4"
   },
   "outputs": [
    {
     "name": "stdout",
     "output_type": "stream",
     "text": [
      "Looking in indexes: https://pypi.org/simple, https://us-python.pkg.dev/colab-wheels/public/simple/\n",
      "Collecting ffmpeg-python\n",
      "  Downloading ffmpeg_python-0.2.0-py3-none-any.whl (25 kB)\n",
      "Requirement already satisfied: future in /usr/local/lib/python3.10/dist-packages (from ffmpeg-python) (0.18.3)\n",
      "Installing collected packages: ffmpeg-python\n",
      "Successfully installed ffmpeg-python-0.2.0\n"
     ]
    }
   ],
   "source": [
    "!pip install ffmpeg-python"
   ]
  },
  {
   "cell_type": "code",
   "execution_count": null,
   "metadata": {
    "id": "Rj81--8f_mxL"
   },
   "outputs": [],
   "source": [
    "from IPython.display import HTML, Audio\n",
    "from google.colab.output import eval_js\n",
    "from base64 import b64decode\n",
    "import numpy as np\n",
    "from scipy.io.wavfile import read as wav_read\n",
    "import io\n",
    "import ffmpeg\n",
    "\n",
    "AUDIO_HTML = \"\"\"\n",
    "<script>\n",
    "var my_div = document.createElement(\"DIV\");\n",
    "var my_p = document.createElement(\"P\");\n",
    "var my_btn = document.createElement(\"BUTTON\");\n",
    "var t = document.createTextNode(\"Press to start recording\");\n",
    "\n",
    "my_btn.appendChild(t);\n",
    "//my_p.appendChild(my_btn);\n",
    "my_div.appendChild(my_btn);\n",
    "document.body.appendChild(my_div);\n",
    "\n",
    "var base64data = 0;\n",
    "var reader;\n",
    "var recorder, gumStream;\n",
    "var recordButton = my_btn;\n",
    "\n",
    "var handleSuccess = function(stream) {\n",
    "  gumStream = stream;\n",
    "  var options = {\n",
    "    //bitsPerSecond: 8000, //chrome seems to ignore, always 48k\n",
    "    mimeType : 'audio/webm;codecs=opus'\n",
    "    //mimeType : 'audio/webm;codecs=pcm'\n",
    "  };            \n",
    "  //recorder = new MediaRecorder(stream, options);\n",
    "  recorder = new MediaRecorder(stream);\n",
    "  recorder.ondataavailable = function(e) {            \n",
    "    var url = URL.createObjectURL(e.data);\n",
    "    var preview = document.createElement('audio');\n",
    "    preview.controls = true;\n",
    "    preview.src = url;\n",
    "    document.body.appendChild(preview);\n",
    "\n",
    "    reader = new FileReader();\n",
    "    reader.readAsDataURL(e.data); \n",
    "    reader.onloadend = function() {\n",
    "      base64data = reader.result;\n",
    "      //console.log(\"Inside FileReader:\" + base64data);\n",
    "    }\n",
    "  };\n",
    "  recorder.start();\n",
    "  };\n",
    "\n",
    "recordButton.innerText = \"Recording... press to stop\";\n",
    "\n",
    "navigator.mediaDevices.getUserMedia({audio: true}).then(handleSuccess);\n",
    "\n",
    "\n",
    "function toggleRecording() {\n",
    "  if (recorder && recorder.state == \"recording\") {\n",
    "      recorder.stop();\n",
    "      gumStream.getAudioTracks()[0].stop();\n",
    "      recordButton.innerText = \"Saving the recording... pls wait!\"\n",
    "  }\n",
    "}\n",
    "\n",
    "// https://stackoverflow.com/a/951057\n",
    "function sleep(ms) {\n",
    "  return new Promise(resolve => setTimeout(resolve, ms));\n",
    "}\n",
    "\n",
    "var data = new Promise(resolve=>{\n",
    "//recordButton.addEventListener(\"click\", toggleRecording);\n",
    "recordButton.onclick = ()=>{\n",
    "toggleRecording()\n",
    "\n",
    "sleep(2000).then(() => {\n",
    "  // wait 2000ms for the data to be available...\n",
    "  // ideally this should use something like await...\n",
    "  //console.log(\"Inside data:\" + base64data)\n",
    "  resolve(base64data.toString())\n",
    "\n",
    "});\n",
    "\n",
    "}\n",
    "});\n",
    "      \n",
    "</script>\n",
    "\"\"\"\n",
    "\n",
    "def get_audio():\n",
    "  display(HTML(AUDIO_HTML))\n",
    "  data = eval_js(\"data\")\n",
    "  binary = b64decode(data.split(',')[1])\n",
    "  \n",
    "  process = (ffmpeg\n",
    "    .input('pipe:0')\n",
    "    .output('pipe:1', format='wav')\n",
    "    .run_async(pipe_stdin=True, pipe_stdout=True, pipe_stderr=True, quiet=True, overwrite_output=True)\n",
    "  )\n",
    "  output, err = process.communicate(input=binary)\n",
    "  \n",
    "  riff_chunk_size = len(output) - 8\n",
    "  # Break up the chunk size into four bytes, held in b.\n",
    "  q = riff_chunk_size\n",
    "  b = []\n",
    "  for i in range(4):\n",
    "      q, r = divmod(q, 256)\n",
    "      b.append(r)\n",
    "\n",
    "  # Replace bytes 4:8 in proc.stdout with the actual size of the RIFF chunk.\n",
    "  riff = output[:4] + bytes(b) + output[8:]\n",
    "\n",
    "  sr, audio = wav_read(io.BytesIO(riff))\n",
    "\n",
    "  return audio, sr"
   ]
  },
  {
   "cell_type": "code",
   "execution_count": null,
   "metadata": {
    "colab": {
     "base_uri": "https://localhost:8080/",
     "height": 96
    },
    "id": "gOcsFLgHAGQn",
    "outputId": "15741728-bd54-46ff-c225-5d1dd04e574a"
   },
   "outputs": [
    {
     "data": {
      "text/html": [
       "\n",
       "<script>\n",
       "var my_div = document.createElement(\"DIV\");\n",
       "var my_p = document.createElement(\"P\");\n",
       "var my_btn = document.createElement(\"BUTTON\");\n",
       "var t = document.createTextNode(\"Press to start recording\");\n",
       "\n",
       "my_btn.appendChild(t);\n",
       "//my_p.appendChild(my_btn);\n",
       "my_div.appendChild(my_btn);\n",
       "document.body.appendChild(my_div);\n",
       "\n",
       "var base64data = 0;\n",
       "var reader;\n",
       "var recorder, gumStream;\n",
       "var recordButton = my_btn;\n",
       "\n",
       "var handleSuccess = function(stream) {\n",
       "  gumStream = stream;\n",
       "  var options = {\n",
       "    //bitsPerSecond: 8000, //chrome seems to ignore, always 48k\n",
       "    mimeType : 'audio/webm;codecs=opus'\n",
       "    //mimeType : 'audio/webm;codecs=pcm'\n",
       "  };            \n",
       "  //recorder = new MediaRecorder(stream, options);\n",
       "  recorder = new MediaRecorder(stream);\n",
       "  recorder.ondataavailable = function(e) {            \n",
       "    var url = URL.createObjectURL(e.data);\n",
       "    var preview = document.createElement('audio');\n",
       "    preview.controls = true;\n",
       "    preview.src = url;\n",
       "    document.body.appendChild(preview);\n",
       "\n",
       "    reader = new FileReader();\n",
       "    reader.readAsDataURL(e.data); \n",
       "    reader.onloadend = function() {\n",
       "      base64data = reader.result;\n",
       "      //console.log(\"Inside FileReader:\" + base64data);\n",
       "    }\n",
       "  };\n",
       "  recorder.start();\n",
       "  };\n",
       "\n",
       "recordButton.innerText = \"Recording... press to stop\";\n",
       "\n",
       "navigator.mediaDevices.getUserMedia({audio: true}).then(handleSuccess);\n",
       "\n",
       "\n",
       "function toggleRecording() {\n",
       "  if (recorder && recorder.state == \"recording\") {\n",
       "      recorder.stop();\n",
       "      gumStream.getAudioTracks()[0].stop();\n",
       "      recordButton.innerText = \"Saving the recording... pls wait!\"\n",
       "  }\n",
       "}\n",
       "\n",
       "// https://stackoverflow.com/a/951057\n",
       "function sleep(ms) {\n",
       "  return new Promise(resolve => setTimeout(resolve, ms));\n",
       "}\n",
       "\n",
       "var data = new Promise(resolve=>{\n",
       "//recordButton.addEventListener(\"click\", toggleRecording);\n",
       "recordButton.onclick = ()=>{\n",
       "toggleRecording()\n",
       "\n",
       "sleep(2000).then(() => {\n",
       "  // wait 2000ms for the data to be available...\n",
       "  // ideally this should use something like await...\n",
       "  //console.log(\"Inside data:\" + base64data)\n",
       "  resolve(base64data.toString())\n",
       "\n",
       "});\n",
       "\n",
       "}\n",
       "});\n",
       "      \n",
       "</script>\n"
      ],
      "text/plain": [
       "<IPython.core.display.HTML object>"
      ]
     },
     "metadata": {},
     "output_type": "display_data"
    }
   ],
   "source": [
    "audio, sr = get_audio()"
   ]
  },
  {
   "cell_type": "code",
   "execution_count": null,
   "metadata": {
    "id": "qawwgKf3Aj3_"
   },
   "outputs": [],
   "source": [
    "import wave"
   ]
  },
  {
   "cell_type": "markdown",
   "metadata": {
    "id": "q3dFs2ZOBgQq"
   },
   "source": [
    "# MP3"
   ]
  },
  {
   "cell_type": "code",
   "execution_count": null,
   "metadata": {
    "colab": {
     "base_uri": "https://localhost:8080/"
    },
    "id": "RhvFpuZJBTGt",
    "outputId": "2766ff4e-71ae-4157-be9b-444081a8ea01"
   },
   "outputs": [
    {
     "name": "stdout",
     "output_type": "stream",
     "text": [
      "Looking in indexes: https://pypi.org/simple, https://us-python.pkg.dev/colab-wheels/public/simple/\n",
      "Collecting pydub\n",
      "  Downloading pydub-0.25.1-py2.py3-none-any.whl (32 kB)\n",
      "Installing collected packages: pydub\n",
      "Successfully installed pydub-0.25.1\n"
     ]
    }
   ],
   "source": [
    "!pip install pydub"
   ]
  },
  {
   "cell_type": "code",
   "execution_count": null,
   "metadata": {
    "id": "8e0MeUEkBntL"
   },
   "outputs": [],
   "source": [
    "from pydub import AudioSegment"
   ]
  },
  {
   "cell_type": "code",
   "execution_count": null,
   "metadata": {
    "id": "3--_6975CqbP"
   },
   "outputs": [],
   "source": []
  }
 ],
 "metadata": {
  "colab": {
   "provenance": []
  },
  "kernelspec": {
   "display_name": "Python 3",
   "language": "python",
   "name": "python3"
  },
  "language_info": {
   "codemirror_mode": {
    "name": "ipython",
    "version": 3
   },
   "file_extension": ".py",
   "mimetype": "text/x-python",
   "name": "python",
   "nbconvert_exporter": "python",
   "pygments_lexer": "ipython3",
   "version": "3.8.5"
  }
 },
 "nbformat": 4,
 "nbformat_minor": 1
}
