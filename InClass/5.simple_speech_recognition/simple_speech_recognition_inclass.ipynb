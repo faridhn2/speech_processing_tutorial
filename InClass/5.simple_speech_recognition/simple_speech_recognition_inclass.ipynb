{
 "cells": [
  {
   "cell_type": "markdown",
   "metadata": {
    "id": "EHZL5tEb2AUR"
   },
   "source": [
    "\n",
    "\n",
    "#  ASR Automate Speech Recognition\n",
    "* STT (Speech to Text)\n",
    "\n"
   ]
  },
  {
   "cell_type": "markdown",
   "metadata": {
    "id": "qqDWVU2Y2p0D"
   },
   "source": [
    "* First, speech recognition that allows the machine to catch the words, phrases and sentences we speak\n",
    "\n",
    "* Second, natural language processing to allow the machine to understand what we speak, and\n",
    "\n",
    "* Third, speech synthesis to allow the machine to speak."
   ]
  },
  {
   "cell_type": "markdown",
   "metadata": {
    "id": "BkZtdSKh25s2"
   },
   "source": [
    "# Difficulties in developing a speech recognition system"
   ]
  },
  {
   "cell_type": "markdown",
   "metadata": {
    "id": "xgdn54gJ27s9"
   },
   "source": [
    "* Size of the vocabulary − Size of the vocabulary impacts the ease of developing an ASR. Consider the following sizes of vocabulary for a better understanding.\n",
    "\n",
    " * A small size vocabulary consists of 2-100 words, for example, as in a voice-menu system\n",
    "\n",
    " * A medium size vocabulary consists of several 100s to 1,000s of words, for example, as in a database-retrieval task\n",
    "\n",
    " * A large size vocabulary consists of several 10,000s of words, as in a general dictation task.\n",
    "\n",
    "\n",
    "\n"
   ]
  },
  {
   "cell_type": "markdown",
   "metadata": {
    "id": "xIS4O-DQ3YtL"
   },
   "source": [
    "* **Channel characteristics** − Channel quality is also an important dimension. For example, human speech contains high bandwidth with full frequency range, while a telephone speech consists of low bandwidth with limited frequency range. Note that it is harder in the latter.\n",
    "\n",
    "* **Speaking mode**− Ease of developing an ASR also depends on the speaking mode, that is whether the speech is in isolated word mode, or connected word mode, or in a continuous speech mode. Note that a continuous speech is harder to recognize.\n",
    "\n",
    "* **Speaking style** − A read speech may be in a formal style, or spontaneous and conversational with casual style. The latter is harder to recognize.\n",
    "* **Speaker dependency**− Speech can be speaker dependent, speaker adaptive, or speaker independent. A speaker independent is the hardest to build.\n",
    "\n",
    "* **Type of noise** bold text − Noise is another factor to consider while developing an ASR. Signal to noise ratio may be in various ranges, depending on the acoustic environment that observes less versus more background noise\n",
    " * If the signal to noise ratio is greater than 30dB, it is considered as high range\n",
    "\n",
    " * If the signal to noise ratio lies between 30dB to 10db, it is considered as medium SNR\n",
    "\n",
    " * If the signal to noise ratio is lesser than 10dB, it is considered as low range"
   ]
  },
  {
   "cell_type": "markdown",
   "metadata": {
    "id": "A_twG71P4DLQ"
   },
   "source": [
    "* **Microphone characteristics** − The quality of microphone may be good, average, or below average. Also, the distance between mouth and micro-phone can vary. These factors also should be considered for recognition systems."
   ]
  },
  {
   "cell_type": "markdown",
   "metadata": {
    "id": "uK5GZvUW4P1_"
   },
   "source": [
    "# Simple audio recognition: Recognizing keywords"
   ]
  },
  {
   "cell_type": "markdown",
   "metadata": {
    "id": "J-VXpOsd4Xj2"
   },
   "source": [
    "**DataSet:**\n",
    "\n",
    "**speech_commands**\n",
    "\n",
    "\n",
    "An audio dataset of spoken words designed to help train and evaluate keyword spotting systems. Its primary goal is to provide a way to build and test small models that detect when a single word is spoken, from a set of ten target words, with as few false positives as possible from background noise or unrelated speech. Note that in the train and validation set, the label \"unknown\" is much more prevalent than the labels of the target words or background noise. One difference from the release version is the handling of silent segments. While in the test set the silence segments are regular 1 second files, in the training they are provided as long segments under \"background_noise\" folder. Here we split these background noise into 1 second clips, and also keep one of the files for the validation set.\n",
    "[link](https://www.tensorflow.org/datasets/catalog/speech_commands)"
   ]
  },
  {
   "cell_type": "code",
   "execution_count": null,
   "metadata": {
    "colab": {
     "base_uri": "https://localhost:8080/"
    },
    "id": "zM4uqc11ukKD",
    "outputId": "520b0e8f-337b-4f4c-9527-34a4c0213c54"
   },
   "outputs": [
    {
     "name": "stdout",
     "output_type": "stream",
     "text": [
      "\u001b[2K     \u001b[90m━━━━━━━━━━━━━━━━━━━━━━━━━━━━━━━━━━━━━━━━\u001b[0m \u001b[32m5.4/5.4 MB\u001b[0m \u001b[31m28.2 MB/s\u001b[0m eta \u001b[36m0:00:00\u001b[0m\n",
      "\u001b[2K     \u001b[90m━━━━━━━━━━━━━━━━━━━━━━━━━━━━━━━━━━━━━━━━\u001b[0m \u001b[32m3.0/3.0 MB\u001b[0m \u001b[31m52.5 MB/s\u001b[0m eta \u001b[36m0:00:00\u001b[0m\n",
      "Reading package lists... Done\n",
      "Building dependency tree       \n",
      "Reading state information... Done\n",
      "The following packages will be REMOVED:\n",
      "  libcudnn8-dev\n",
      "The following held packages will be changed:\n",
      "  libcudnn8\n",
      "The following packages will be DOWNGRADED:\n",
      "  libcudnn8\n",
      "0 upgraded, 0 newly installed, 1 downgraded, 1 to remove and 22 not upgraded.\n",
      "Need to get 430 MB of archives.\n",
      "After this operation, 1,153 MB disk space will be freed.\n",
      "Get:1 https://developer.download.nvidia.com/compute/cuda/repos/ubuntu2004/x86_64  libcudnn8 8.1.0.77-1+cuda11.2 [430 MB]\n",
      "Fetched 430 MB in 6s (75.1 MB/s)\n",
      "(Reading database ... 122518 files and directories currently installed.)\n",
      "Removing libcudnn8-dev (8.7.0.84-1+cuda11.8) ...\n",
      "update-alternatives: removing manually selected alternative - switching libcudnn to auto mode\n",
      "\u001b[1mdpkg:\u001b[0m \u001b[1;33mwarning:\u001b[0m downgrading libcudnn8 from 8.7.0.84-1+cuda11.8 to 8.1.0.77-1+cuda11.2\n",
      "(Reading database ... 122485 files and directories currently installed.)\n",
      "Preparing to unpack .../libcudnn8_8.1.0.77-1+cuda11.2_amd64.deb ...\n",
      "Unpacking libcudnn8 (8.1.0.77-1+cuda11.2) over (8.7.0.84-1+cuda11.8) ...\n",
      "Setting up libcudnn8 (8.1.0.77-1+cuda11.2) ...\n"
     ]
    }
   ],
   "source": [
    "!pip install -U -q tensorflow tensorflow_datasets\n",
    "!apt install --allow-change-held-packages libcudnn8=8.1.0.77-1+cuda11.2"
   ]
  },
  {
   "cell_type": "code",
   "execution_count": null,
   "metadata": {
    "id": "2WrXZS8p45iH"
   },
   "outputs": [],
   "source": [
    "import os\n",
    "import pathlib\n",
    "\n",
    "import matplotlib.pyplot as plt\n",
    "%matplotlib inline\n",
    "import numpy as np\n",
    "import seaborn as sns\n",
    "import tensorflow as tf\n",
    "\n",
    "from tensorflow.keras import layers\n",
    "from tensorflow.keras import models\n",
    "from IPython import display\n",
    "\n",
    "# Set the seed value for experiment reproducibility.\n",
    "seed = 42\n",
    "tf.random.set_seed(seed)\n",
    "np.random.seed(seed)"
   ]
  },
  {
   "cell_type": "code",
   "execution_count": null,
   "metadata": {
    "colab": {
     "base_uri": "https://localhost:8080/"
    },
    "id": "EB8G_o6h5MAl",
    "outputId": "91681205-c9f8-4138-e29b-2e2986e0fa30"
   },
   "outputs": [
    {
     "name": "stdout",
     "output_type": "stream",
     "text": [
      "Downloading data from http://storage.googleapis.com/download.tensorflow.org/data/mini_speech_commands.zip\n",
      "182082353/182082353 [==============================] - 2s 0us/step\n"
     ]
    }
   ],
   "source": [
    "DATASET_PATH = 'data/mini_speech_commands'\n",
    "\n",
    "data_dir = pathlib.Path(DATASET_PATH)\n",
    "if not data_dir.exists():\n",
    "  tf.keras.utils.get_file(\n",
    "      'mini_speech_commands.zip',\n",
    "      origin=\"http://storage.googleapis.com/download.tensorflow.org/data/mini_speech_commands.zip\",\n",
    "      extract=True,\n",
    "      cache_dir='.', cache_subdir='data')"
   ]
  },
  {
   "cell_type": "code",
   "execution_count": null,
   "metadata": {
    "colab": {
     "base_uri": "https://localhost:8080/",
     "height": 75
    },
    "id": "W0_3n5Kt626l",
    "outputId": "accf0a03-bcf4-45d4-bc12-92409368b601"
   },
   "outputs": [
    {
     "data": {
      "text/html": [
       "\n",
       "                <audio  controls=\"controls\" autoplay=\"autoplay\">\n",
       "                    <source src=\"data:audio/x-wav;base64,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\" type=\"audio/x-wav\" />\n",
       "                    Your browser does not support the audio element.\n",
       "                </audio>\n",
       "              "
      ],
      "text/plain": [
       "<IPython.lib.display.Audio object>"
      ]
     },
     "metadata": {},
     "output_type": "display_data"
    }
   ],
   "source": [
    "from IPython.display import Audio, display\n",
    "\n",
    "display(Audio('data/mini_speech_commands/down/004ae714_nohash_0.wav', autoplay=True))"
   ]
  },
  {
   "cell_type": "code",
   "execution_count": null,
   "metadata": {
    "colab": {
     "base_uri": "https://localhost:8080/"
    },
    "id": "w-_qo5Jt7G_x",
    "outputId": "99588df6-2804-4ae4-f758-e488c17099f5"
   },
   "outputs": [
    {
     "name": "stdout",
     "output_type": "stream",
     "text": [
      "Commands: ['left' 'no' 'right' 'stop' 'yes' 'down' 'README.md' 'go' 'up']\n"
     ]
    }
   ],
   "source": [
    "commands = np.array(tf.io.gfile.listdir(str(data_dir)))\n",
    "print('Commands:', commands)"
   ]
  },
  {
   "cell_type": "code",
   "execution_count": null,
   "metadata": {
    "colab": {
     "base_uri": "https://localhost:8080/"
    },
    "id": "BM1Ca_WT7V7k",
    "outputId": "5f8ffac4-3bb8-4328-de7e-250f87290397"
   },
   "outputs": [
    {
     "data": {
      "text/plain": [
       "numpy.ndarray"
      ]
     },
     "execution_count": 6,
     "metadata": {},
     "output_type": "execute_result"
    }
   ],
   "source": [
    "type(commands)"
   ]
  },
  {
   "cell_type": "code",
   "execution_count": null,
   "metadata": {
    "colab": {
     "base_uri": "https://localhost:8080/"
    },
    "id": "hjS6nPrr7Qwi",
    "outputId": "a4ffc829-754d-43c0-b70e-242606da8fe5"
   },
   "outputs": [
    {
     "name": "stdout",
     "output_type": "stream",
     "text": [
      "Commands: ['left' 'no' 'right' 'stop' 'yes' 'down' 'go' 'up']\n"
     ]
    }
   ],
   "source": [
    "commands = commands[(commands != 'README.md') & (commands != '.DS_Store')]\n",
    "print('Commands:', commands)"
   ]
  },
  {
   "cell_type": "markdown",
   "metadata": {
    "id": "l1fYvTAL8Lyo"
   },
   "source": [
    "This dataset only contains single channel audio, so use the tf.squeeze function to drop the extra axis:"
   ]
  },
  {
   "cell_type": "markdown",
   "metadata": {
    "id": "cBx24jMx8kG-"
   },
   "source": [
    "The utils.audio_dataset_from_directory function only returns up to two splits. It's a good idea to keep a test set separate from your validation set. Ideally you'd keep it in a separate directory, but in this case you can use Dataset.shard to split the validation set into two halves. Note that iterating over any shard will load all the data, and only keep its fraction."
   ]
  },
  {
   "cell_type": "markdown",
   "metadata": {
    "id": "a4csXw6c9HBV"
   },
   "source": [
    "# Convert waveforms to spectrograms"
   ]
  },
  {
   "cell_type": "markdown",
   "metadata": {
    "id": "ImcQc-lt9UdT"
   },
   "source": [
    "The waveforms in the dataset are represented in the time domain. Next, you'll transform the waveforms from the time-domain signals into the time-frequency-domain signals by computing the short-time Fourier transform (STFT) to convert the waveforms to as spectrograms, which show frequency changes over time and can be represented as 2D images. You will feed the spectrogram images into your neural network to train the model"
   ]
  },
  {
   "cell_type": "markdown",
   "metadata": {
    "id": "mCUkOi1-96oB"
   },
   "source": [
    "Now, create spectrogramn datasets from the audio datasets:"
   ]
  },
  {
   "cell_type": "markdown",
   "metadata": {
    "id": "IqnsW-9E-OCn"
   },
   "source": [
    "# Build and train the model"
   ]
  },
  {
   "cell_type": "markdown",
   "metadata": {
    "id": "F7ziJoAA-um4"
   },
   "source": [
    "## Display a confusion matrix"
   ]
  },
  {
   "cell_type": "markdown",
   "metadata": {
    "id": "YTRxwIQH-7l8"
   },
   "source": [
    "## Run inference on an audio file"
   ]
  },
  {
   "cell_type": "markdown",
   "metadata": {
    "id": "Ya1Bnek-_G_f"
   },
   "source": [
    "# Export the model with preprocessing"
   ]
  },
  {
   "cell_type": "code",
   "execution_count": null,
   "metadata": {
    "id": "-4UJl_he_OWs"
   },
   "outputs": [],
   "source": []
  }
 ],
 "metadata": {
  "colab": {
   "provenance": []
  },
  "kernelspec": {
   "display_name": "Python 3",
   "language": "python",
   "name": "python3"
  },
  "language_info": {
   "codemirror_mode": {
    "name": "ipython",
    "version": 3
   },
   "file_extension": ".py",
   "mimetype": "text/x-python",
   "name": "python",
   "nbconvert_exporter": "python",
   "pygments_lexer": "ipython3",
   "version": "3.8.5"
  }
 },
 "nbformat": 4,
 "nbformat_minor": 1
}
